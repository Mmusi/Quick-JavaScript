{
 "cells": [
  {
   "cell_type": "markdown",
   "id": "3e5a36dc",
   "metadata": {},
   "source": [
    "(about_js)=\n",
    "\n",
    "# About JavaScript\n",
    "\n",
    "> \\\"JavaScript is the only language I am aware of that people feel they dont need to learn before they start using it .\\\" -- Douglas Crockford\n",
    "\n",
    "\n",
    "## What\\'s JavaScript?\n",
    "\n",
    "[JavaScript](https://www.javascript.com/) is an objected oriented general-purpose programming\n",
    "language that allows you to implement complex features on web pages. It is a scripting language that enables you to create dynamic content, control multimedia, animate images, and almost everything you can think of.\n",
    "\n",
    "JavaScript is free and open standard, with some of it most popular frameworks such as React opensource.\n",
    "[React](https://reactjs.org/).\n",
    "\n",
    "\n",
    "Some of the popular textbooks on JavaScript programming include {cite}`asmarterwaytolearnjavaScript` and {cite}`eloquentjavascript`.\n",
    "\n",
    "### Common Uses\n",
    "\n",
    "JavaScript is a general-purpose language used in almost all application domains\n",
    "such as\n",
    "\n",
    "-   communications\n",
    "-   web development\n",
    "-   CGI and graphical user interfaces\n",
    "-   game development\n",
    "-   multimedia, data processing, security.\n",
    "\n",
    "JavaScript is beginner-friendly and routinely used to teach computer science and\n",
    "programming in top computer science programs at some of the best Universities in the world.\n",
    "\n",
    "\n",
    "\n",
    "### Features\n",
    "\n",
    "JavaScript is a [high-level language](https://en.wikipedia.org/wiki/High-level_programming_language)\n",
    "suitable for rapid development.\n",
    "\n",
    "Multiple programming styles are supported (procedural, object-oriented etc.)\n",
    "\n",
    "\n",
    "### Syntax and Design\n",
    "\n",
    "One nice feature of JavaScript is its templating ability --- we\\'ll see many\n",
    "examples later on.\n",
    "\n",
    "Design patterns in JavaScript are reusable solutions applied to reccurring problems in writing JavaScript web applications.\n",
    "In JavaScript such are normally referred to as templates designed to solve problems. These patterns help developers combine experiences and structure code in a most fit way to help solve problems. \n",
    "JavaScript patterns assist developers in writing organized, well structured codes.\n",
    "\n",
    "\n",
    "[Namespaces](https://en.wikipedia.org/wiki/Namespace) improve\n",
    "productivity by cutting down on bugs and syntax errors.\n",
    "\n",
    "\n",
    "## Bibliography\n",
    "\n",
    "```{bibliography} ../_bibliography/references.bib\n",
    "```"
   ]
  }
 ],
 "metadata": {
  "jupytext": {
   "text_representation": {
    "extension": ".md",
    "format_name": "myst"
   }
  },
  "kernelspec": {
   "display_name": "Python 3",
   "language": "python",
   "name": "python3"
  },
  "language_info": {
   "codemirror_mode": {
    "name": "ipython",
    "version": 3
   },
   "file_extension": ".py",
   "mimetype": "text/x-python",
   "name": "python",
   "nbconvert_exporter": "python",
   "pygments_lexer": "ipython3",
   "version": "3.9.12"
  },
  "source_map": [
   10
  ]
 },
 "nbformat": 4,
 "nbformat_minor": 5
}