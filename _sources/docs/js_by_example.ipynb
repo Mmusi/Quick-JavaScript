{
 "cells": [
  {
   "cell_type": "markdown",
   "id": "11b2d58a",
   "metadata": {},
   "source": [
    "(js_by_example)=\n",
    "\n",
    "\n",
    "# An Introductory Example\n",
    "\n",
    "## Overview\n",
    "\n",
    "We are now ready to start learning the JavaScript.\n",
    "\n",
    "In this lesson, we will write and then build on the small JavaScript\n",
    "program from previous section.\n",
    "\n",
    "The objective is to introduce you to basic JavaScript syntax etc.\n",
    "\n",
    "You should have read the {ref}`lecture <getting_started>` on getting started with JavaScript before beginning this one."
   ]
  }
 ],
 "metadata": {
  "jupytext": {
   "text_representation": {
    "extension": ".md",
    "format_name": "myst"
   }
  },
  "kernelspec": {
   "display_name": "Python 3",
   "language": "python",
   "name": "python3"
  },
  "language_info": {
   "codemirror_mode": {
    "name": "ipython",
    "version": 3
   },
   "file_extension": ".py",
   "mimetype": "text/x-python",
   "name": "python",
   "nbconvert_exporter": "python",
   "pygments_lexer": "ipython3",
   "version": "3.9.12"
  },
  "source_map": [
   10
  ]
 },
 "nbformat": 4,
 "nbformat_minor": 5
}